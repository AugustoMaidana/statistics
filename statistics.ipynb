{
 "cells": [
  {
   "cell_type": "markdown",
   "source": [
    "# S07 T01: Tasca dades, probabilitats i estadístiques\r\n",
    "\r\n",
    "Descripció\r\n",
    "\r\n",
    "Aprèn a realitzar estadístiques amb Python\r\n",
    "\r\n",
    "Objectius\r\n",
    "\r\n",
    "- Calcular diferents estadístiques de les dades\r\n",
    "- Representar gràficament diferents estadístiques de les dades\r\n",
    "\r\n",
    "**Nivell 1**\r\n",
    "\r\n",
    "- Exercici 1:\r\n",
    "\r\n",
    "Agafa un conjunt de dades de tema esportiu que t'agradi i selecciona un atribut del conjunt de dades. Calcula la moda, la mediana, la desviació estàndard i la mitjana aritmètica."
   ],
   "metadata": {}
  },
  {
   "cell_type": "code",
   "execution_count": null,
   "source": [
    "import matplotlib.pyplot as plt\r\n",
    "from plotly import express as px\r\n",
    "from plotly import graph_objects as go\r\n",
    "import seaborn as sns\r\n",
    "import pandas as pd\r\n",
    "import numpy as np\r\n",
    "import statistics as stats\r\n",
    "\r\n",
    "%matplotlib inline"
   ],
   "outputs": [],
   "metadata": {}
  },
  {
   "cell_type": "code",
   "execution_count": null,
   "source": [
    "all_seasons_df = pd.read_csv('../sampling/input/all_seasons.csv').drop('Unnamed: 0',axis=1)\r\n",
    "all_seasons_df.head()"
   ],
   "outputs": [],
   "metadata": {}
  },
  {
   "cell_type": "markdown",
   "source": [
    "- Display the number of rows and columns in the database"
   ],
   "metadata": {}
  },
  {
   "cell_type": "code",
   "execution_count": null,
   "source": [
    "all_seasons_df.shape"
   ],
   "outputs": [],
   "metadata": {}
  },
  {
   "cell_type": "code",
   "execution_count": null,
   "source": [
    "all_seasons_df.info()"
   ],
   "outputs": [],
   "metadata": {}
  },
  {
   "cell_type": "code",
   "execution_count": null,
   "source": [
    "season_wise_df = all_seasons_df.set_index(['player_name', 'season'])\r\n",
    "season_wise_df.head()"
   ],
   "outputs": [],
   "metadata": {}
  },
  {
   "cell_type": "markdown",
   "source": [
    "- Display Manu Ginobili' point averages for each of his seasons in the database:"
   ],
   "metadata": {}
  },
  {
   "cell_type": "code",
   "execution_count": null,
   "source": [
    "season_wise_df.loc['Manu Ginobili',['pts']]"
   ],
   "outputs": [],
   "metadata": {}
  },
  {
   "cell_type": "code",
   "execution_count": null,
   "source": [
    "import matplotlib.pyplot as plt\r\n",
    "#season_wise_df.loc['Manu Ginobili', ['pts']]\r\n",
    "plt.plot(season_wise_df.loc['Manu Ginobili',['pts']])\r\n",
    "plt.ylabel('Points Per Game')\r\n",
    "plt.xticks(rotation=90)\r\n",
    "plt.title('Manu Ginobili Average Points Per Season')\r\n",
    "plt.xlabel('Season')\r\n",
    "plt.show()"
   ],
   "outputs": [],
   "metadata": {}
  },
  {
   "cell_type": "markdown",
   "source": [
    "We will take in account the pts (average pts per game) to do the statistics calculation:\r\n",
    "\r\n",
    "- Calculate the mode of pts per season for Manu Ginobili.\r\n",
    "\r\n",
    "The mode is a statistical term that refers to the most frequently occurring number found in a set of numbers."
   ],
   "metadata": {}
  },
  {
   "cell_type": "code",
   "execution_count": null,
   "source": [
    "# Calculate the mode of  pts  per all seasons for Manu Ginobili:\r\n",
    "print(f\"Mode of pts: {round(season_wise_df.loc['Manu Ginobili'].pts.mode()[0], 2)}\")"
   ],
   "outputs": [],
   "metadata": {}
  },
  {
   "cell_type": "code",
   "execution_count": null,
   "source": [
    "# Calculate the mode of \"pts\" per the first season for Manu Ginobili:\r\n",
    "print(f\"Mode of pts: {round(season_wise_df.loc[[('Manu Ginobili','2002-03')]].pts.mode()[0], 2)}\")"
   ],
   "outputs": [],
   "metadata": {}
  },
  {
   "cell_type": "code",
   "execution_count": null,
   "source": [
    "# Calculate the mode of \"pts\" per the last season for Manu Ginobili:\r\n",
    "print(f\"Mode of pts: {round(season_wise_df.loc[[('Manu Ginobili','2017-18')]].pts.mode()[0], 2)}\")"
   ],
   "outputs": [],
   "metadata": {}
  },
  {
   "cell_type": "markdown",
   "source": [
    "- What was the highest points per game that Manu Ginobili achieved in a single season?"
   ],
   "metadata": {}
  },
  {
   "cell_type": "code",
   "execution_count": null,
   "source": [
    "all_seasons = season_wise_df.loc['Manu Ginobili']\r\n",
    "all_seasons['pts'].max()"
   ],
   "outputs": [],
   "metadata": {}
  },
  {
   "cell_type": "code",
   "execution_count": null,
   "source": [
    "season_wise_df.loc['Manu Ginobili'].query(\"pts == 19.5\")"
   ],
   "outputs": [],
   "metadata": {}
  },
  {
   "cell_type": "code",
   "execution_count": null,
   "source": [
    "# Calculate the mode of \"pts\" per the best season for Manu Ginobili:\r\n",
    "print(f\"Mode of pts: {round(season_wise_df.loc[[('Manu Ginobili','2007-08')]].pts.mode()[0], 2)}\")"
   ],
   "outputs": [],
   "metadata": {}
  },
  {
   "cell_type": "markdown",
   "source": [
    "- Calculate the Median of  pts  per all seasons for Manu Ginobili:\r\n",
    "\r\n",
    "Median is a statistical measure that determines the middle value of a dataset listed in ascending order."
   ],
   "metadata": {}
  },
  {
   "cell_type": "code",
   "execution_count": null,
   "source": [
    "# Calculate the Median of \"pts\" per all seasons for Manu Ginobili:\r\n",
    "print(f\"Median of pts: {round(season_wise_df.loc['Manu Ginobili'].pts.median(), 2)}\")"
   ],
   "outputs": [],
   "metadata": {}
  },
  {
   "cell_type": "markdown",
   "source": [
    "- Calculate the std deviation  pts  per all seasons for Manu Ginobili:\r\n",
    "\r\n",
    "The standard deviation is a statistic that measures the dispersion of a dataset relative to its mean."
   ],
   "metadata": {}
  },
  {
   "cell_type": "code",
   "execution_count": null,
   "source": [
    "# Calculate the std deviation of \"pts\" per all seasons for Manu Ginobili:\r\n",
    "print(f\"Standard deviation of pts: {round(season_wise_df.loc['Manu Ginobili'].pts.std(), 2)}\")"
   ],
   "outputs": [],
   "metadata": {}
  },
  {
   "cell_type": "markdown",
   "source": [
    "- Calculate the average pts per all seasons for Manu Ginobili:\r\n",
    "\r\n",
    "In statistics, the mean is the average or most common value in a collection of numbers."
   ],
   "metadata": {}
  },
  {
   "cell_type": "code",
   "execution_count": null,
   "source": [
    "# Calculate the average \"pts\" per all seasons for Manu Ginobili:\r\n",
    "print(f\"Mean of pts: {round(season_wise_df.loc['Manu Ginobili'].pts.mean(), 2)}\")"
   ],
   "outputs": [],
   "metadata": {}
  },
  {
   "cell_type": "markdown",
   "source": [
    "- Exercici 2:\r\n",
    "\r\n",
    "Continuant amb les dades de tema esportiu, selecciona dos atributs i calcula'n la seva correlació."
   ],
   "metadata": {}
  },
  {
   "cell_type": "markdown",
   "source": [
    "- Let's calculate the correlation between  reb  (rebounds per game) and  ast  (assists per game):"
   ],
   "metadata": {}
  },
  {
   "cell_type": "code",
   "execution_count": null,
   "source": [
    "# Computing the correlation between \"reb\" and \"ast\":\r\n",
    "print(f\"Correlation between 'reb' and 'ast': {round(season_wise_df['reb'].corr(season_wise_df['ast']), 3)}\")"
   ],
   "outputs": [],
   "metadata": {}
  },
  {
   "cell_type": "markdown",
   "source": [
    "**Nivell 2**\r\n",
    "\r\n",
    "- Exercici 3:\r\n",
    "\r\n",
    "Continuant amb les dades de tema esportiu, calcula la correlació de tots els atributs entre sí i representa'ls en una matriu amb diferents colors d'intensitat."
   ],
   "metadata": {}
  },
  {
   "cell_type": "code",
   "execution_count": null,
   "source": [
    "# set undrafted to null\r\n",
    "undrafted = season_wise_df[season_wise_df['draft_year']=='Undrafted']\r\n",
    "season_wise_df['draft_year'] = season_wise_df['draft_year'].replace('Undrafted',np.NaN)\r\n",
    "season_wise_df['draft_round'] = season_wise_df['draft_round'].replace('Undrafted',np.NaN)\r\n",
    "season_wise_df['draft_number'] = season_wise_df['draft_number'].replace('Undrafted',np.NaN)\r\n",
    "#season_wise_df.loc['Manu Ginobili', ['draft_year','draft_round','draft_number']]\r\n",
    "season_wise_df.loc[:, ['draft_year','draft_round','draft_number']]"
   ],
   "outputs": [],
   "metadata": {}
  },
  {
   "cell_type": "code",
   "execution_count": null,
   "source": [
    "cols_need = ['age','player_height','player_weight','gp','pts','reb','ast','net_rating','oreb_pct','dreb_pct','usg_pct','ts_pct','ast_pct']\r\n",
    "cols_need = ['age','player_height','player_weight','gp','pts','reb','ast']\r\n",
    "corr_anal_df = season_wise_df[cols_need]\r\n",
    "corr_anal_df.head()"
   ],
   "outputs": [],
   "metadata": {}
  },
  {
   "cell_type": "code",
   "execution_count": null,
   "source": [
    "# check for duplicate values: yes False => No duplicate values\r\n",
    "corr_anal_df.duplicated().values.any()"
   ],
   "outputs": [],
   "metadata": {}
  },
  {
   "cell_type": "code",
   "execution_count": null,
   "source": [
    "# correlation matrix showing the correlation between features\r\n",
    "corr_anal_df.corr()"
   ],
   "outputs": [],
   "metadata": {}
  },
  {
   "cell_type": "code",
   "execution_count": null,
   "source": [
    "# visualizing relation between features\r\n",
    "pd.plotting.scatter_matrix(corr_anal_df, figsize = (20,20), alpha = 0.5)"
   ],
   "outputs": [],
   "metadata": {}
  },
  {
   "cell_type": "code",
   "execution_count": null,
   "source": [
    "# for a better visualization we use seaborn\r\n",
    "sns.pairplot(corr_anal_df)"
   ],
   "outputs": [],
   "metadata": {}
  },
  {
   "cell_type": "code",
   "execution_count": null,
   "source": [
    "df = corr_anal_df.corr()\r\n",
    "df"
   ],
   "outputs": [],
   "metadata": {}
  },
  {
   "cell_type": "code",
   "execution_count": null,
   "source": [
    "corr_anal_df.corr().info()"
   ],
   "outputs": [],
   "metadata": {}
  },
  {
   "cell_type": "code",
   "execution_count": null,
   "source": [
    "corr_anal_df.corr().describe()"
   ],
   "outputs": [],
   "metadata": {}
  },
  {
   "cell_type": "code",
   "execution_count": null,
   "source": [
    "fig = px.density_heatmap(corr_anal_df, x = 'age', y = 'gp', marginal_x = 'histogram', marginal_y = 'histogram')\r\n",
    "fig.show()"
   ],
   "outputs": [],
   "metadata": {}
  },
  {
   "cell_type": "markdown",
   "source": [
    "- property DataFrame.empty\r\n",
    "\r\n",
    "True if DataFrame is entirely empty (no items), meaning any of the axes are of length 0.\r\n",
    "\r\n",
    "**Returns**: bool\r\n",
    "\r\n",
    "If DataFrame is empty, return True, if not return False."
   ],
   "metadata": {}
  },
  {
   "cell_type": "code",
   "execution_count": null,
   "source": [
    "print('empty:', corr_anal_df.empty)"
   ],
   "outputs": [],
   "metadata": {}
  },
  {
   "cell_type": "markdown",
   "source": [
    "- DataFrame.bool()\r\n",
    "  \r\n",
    "Return the bool of a single element Series or DataFrame. This must be a boolean scalar value, either True or False. It will raise a ValueError if the Series or DataFrame does not have exactly 1 element, or that element is not boolean (integer values 0 and 1 will also raise an exception).\r\n",
    "\r\n",
    "**Returns**: bool\r\n",
    "\r\n",
    "The value in the Series or DataFrame."
   ],
   "metadata": {}
  },
  {
   "cell_type": "code",
   "execution_count": null,
   "source": [
    "print('bool pandas.Series:', pd.Series([True]).bool())\r\n",
    "print('bool pandas.Series:', pd.Series([False]).bool())\r\n",
    "print('bool pandas.Dataframe:', pd.DataFrame({'col': [True]}).bool())\r\n",
    "print('bool pandas.Dataframe:', pd.DataFrame({'col': [False]}).bool())"
   ],
   "outputs": [],
   "metadata": {}
  },
  {
   "cell_type": "markdown",
   "source": [
    "- Series.item()\r\n",
    "  \r\n",
    "Function return the first element of the underlying data of the given series object as a python scalar.\r\n",
    "\r\n",
    "**Returns**: scalar\r\n",
    "\r\n",
    "The first element of %(klass)s.\r\n",
    "\r\n",
    "**Raises**: ValueError\r\n",
    "\r\n",
    "If the data is not length-1.\r\n",
    "\r\n",
    "Function return the first element of the underlying data of the given series object as a python scalar.\r\n",
    "\r\n",
    "**Note** : This function can only convert an array of size 1 to a Python scalar"
   ],
   "metadata": {}
  },
  {
   "cell_type": "code",
   "execution_count": null,
   "source": [
    "print('item pandas.Series:', pd.Series([248]).item())"
   ],
   "outputs": [],
   "metadata": {}
  },
  {
   "cell_type": "code",
   "execution_count": null,
   "source": [
    "# Creating the Series\r\n",
    "sr = pd.Series([248])\r\n",
    "   \r\n",
    "# Create the Index\r\n",
    "index_ = ['Coca Cola']\r\n",
    "   \r\n",
    "# set the index\r\n",
    "sr.index = index_\r\n",
    "   \r\n",
    "# Print the series\r\n",
    "print(sr)\r\n",
    " \r\n",
    "# return a scalar\r\n",
    "result = sr.item()\r\n",
    "   \r\n",
    "# Print the result\r\n",
    "print(result) "
   ],
   "outputs": [],
   "metadata": {}
  },
  {
   "cell_type": "markdown",
   "source": [
    "- DataFrame.any(axis=0, bool_only=None, skipna=True, level=None, **kwargs)\r\n",
    "\r\n",
    " Return whether any element is True, potentially over an axis.  \r\n",
    "\r\n",
    " Returns False unless there is at least one element within a series or along a Dataframe axis that is True or equivalent (e.g. non-zero or non-empty).  \r\n",
    "\r\n",
    " Return whether any element is True, potentially over an axis.\r\n",
    "\r\n",
    " Returns False unless there is at least one element within a series or along a Dataframe axis that is True or equivalent (e.g. non-zero or non-empty).  \r\n",
    "\r\n",
    " | Parameters: | axis:  | {0 or ‘index’, 1 or ‘columns’, None}, default 0                                                   |  \r\n",
    " |:------------|:-------------------|:--------------------------------------------------------------------------------------|  \r\n",
    " |             |                    | Indicate which axis or axes should be reduced.                                        |  \r\n",
    " |             |                    | * 0 / ‘index’ : reduce the index, return a Series whose index is the original column labels.|  \r\n",
    " |             |                    | * 1 / ‘columns’ : reduce the columns, return a Series whose index is the original index.|  \r\n",
    " |             |                    | * **None++ : reduce all axes, return a scalar.|  \r\n",
    " |             | **bool_only**:     | **bool, default None**                                                                |  \r\n",
    " |             |                    | Include only boolean columns. If None, will attempt to use everything, then use only boolean data. Not implemented for Series.|  \r\n",
    " |             | **skipna**:        | **bool, default True**                                                                |  \r\n",
    " |             |                    | Exclude NA/null values. If the entire row/column is NA and skipna is True, then the result will be False, as for an empty row/column. If skipna is False, then NA are treated as True, because these are not equal to zero.|  \r\n",
    " |             | **level**:         | **int or level name, default None                                                     |  \r\n",
    " |             |                    | If the axis is a MultiIndex (hierarchical), count along a particular level, collapsing into a Series.|  \r\n",
    " |             | **\\\\*\\\\*kwargs**:    | **any, default None**                                                                 |  \r\n",
    " |             |                    | Additional keywords have no effect but might be accepted for compatibility with NumPy.|  \r\n",
    " | **Returns**:| **Series or DataFrame**|                                                                                   |  \r\n",
    " |             |                    | If level is specified, then, DataFrame is returned; otherwise, Series is returned.    |\r\n"
   ],
   "metadata": {}
  },
  {
   "cell_type": "code",
   "execution_count": null,
   "source": [
    "print('any:', corr_anal_df.any(1).head(5))"
   ],
   "outputs": [],
   "metadata": {}
  },
  {
   "cell_type": "markdown",
   "source": [
    "- DataFrame.all(axis=0, bool_only=None, skipna=True, level=None, **kwargs)\r\n",
    "\r\n",
    "Return whether all elements are True, potentially over an axis.\r\n",
    "\r\n",
    "Returns True unless there at least one element within a series or along a Dataframe axis that is False or equivalent (e.g. zero or empty).\r\n",
    "\r\n",
    "| Parameters: | axis:              | {0 or ‘index’, 1 or ‘columns’, None}, default 0                                       |\r\n",
    "|:------------|:-------------------|:--------------------------------------------------------------------------------------|\r\n",
    "|             |                    | Indicate which axis or axes should be reduced.                                        |\r\n",
    "|             |                    | * 0 / ‘index’ : reduce the index, return a Series whose index is the original column labels.|\r\n",
    "|             |                    | * 1 / ‘columns’ : reduce the columns, return a Series whose index is the original index.|\r\n",
    "|             |                    | * **None**: reduce all axes, return a scalar.|\r\n",
    "|             | **bool_only**:     | **bool, default None**                                                                |\r\n",
    "|             |                    | Include only boolean columns. If None, will attempt to use everything, then use only boolean data. Not implemented for Series.|\r\n",
    "|             | **skipna**:        | **bool, default True**                                                                |\r\n",
    "|             |                    | Exclude NA/null values. If the entire row/column is NA and skipna is True, then the result will be False, as for an empty row/column. If skipna is False, then NA are treated as True, because these are not equal to zero.|\r\n",
    "|             | **level**:         | **int or level name, default None                                                     |\r\n",
    "|             |                    | If the axis is a MultiIndex (hierarchical), count along a particular level, collapsing into a Series.|\r\n",
    "|             | **\\*\\*kwargs**:    | **any, default None**                                                                 |\r\n",
    "|             |                    | Additional keywords have no effect but might be accepted for compatibility with NumPy.|\r\n",
    "| **Returns**:| **Series or DataFrame**|                                                                                   |\r\n",
    "|             |                    | If level is specified, then, DataFrame is returned; otherwise, Series is returned.    |"
   ],
   "metadata": {}
  },
  {
   "cell_type": "code",
   "execution_count": null,
   "source": [
    "print('all:', corr_anal_df.all(1))"
   ],
   "outputs": [],
   "metadata": {}
  },
  {
   "cell_type": "code",
   "execution_count": null,
   "source": [
    "# using mean normalization:\r\n",
    "normalized_df = (df - df.mean()) / df.std()"
   ],
   "outputs": [],
   "metadata": {}
  },
  {
   "cell_type": "code",
   "execution_count": null,
   "source": [
    "# using min-max normalization:\r\n",
    "normalized_df = ( df - df.min()) / (df.max() - df.min())"
   ],
   "outputs": [],
   "metadata": {}
  },
  {
   "cell_type": "code",
   "execution_count": null,
   "source": [
    "from sklearn.preprocessing import MinMaxScaler\r\n",
    "scaler = MinMaxScaler()\r\n",
    "scaled_values = scaler.fit_transform(df)\r\n",
    "df.loc[:,:] = scaled_values"
   ],
   "outputs": [],
   "metadata": {}
  },
  {
   "cell_type": "code",
   "execution_count": null,
   "source": [
    "sns.heatmap(corr_anal_df.corr(), annot = True, cmap = 'coolwarm')"
   ],
   "outputs": [],
   "metadata": {}
  },
  {
   "cell_type": "markdown",
   "source": [
    "**Nivell 3**\r\n",
    "\r\n",
    "- Exercici 4:\r\n",
    "\r\n",
    "Continuant amb les dades de tema esportiu, selecciona un atribut i calcula la mitjana geomètrica i la mitjana harmònica."
   ],
   "metadata": {}
  },
  {
   "cell_type": "markdown",
   "source": [
    "- Calculate the geometric mean of \\\"pts\\\" per all seasons for Manu Ginobili:\r\n",
    "\r\n",
    "The geometric mean is calculated by raising the product of a series of numbers to the inverse of the total length of the series. The geometric mean is most useful when the numbers in the series are not independent of each other or if the numbers tend to have large fluctuations. The geometric mean is also appropriate if the values have different units."
   ],
   "metadata": {}
  },
  {
   "cell_type": "code",
   "execution_count": null,
   "source": [
    "# Calculate the geometric mean of \\\"pts\\\" per all seasons for Manu Ginobili:\r\n",
    "print(f\"Geometric mean of pts: {round(stats.geometric_mean(season_wise_df.loc['Manu Ginobili'].pts.dropna()), 2)}\")"
   ],
   "outputs": [],
   "metadata": {}
  },
  {
   "cell_type": "markdown",
   "source": [
    "- Calculate the harmonic mean of \"pts\" per all seasons for Manu Ginobili:\r\n",
    "\r\n",
    "The harmonic mean is a type of numerical mean. It is calculated by dividing the number of observations by the reciprocal of each number in the series. Thus, the harmonic mean is the reciprocal of the arithmetic mean of the reciprocals. The harmonic mean is appropriate if the data values are quotients of two variables with different measures, called rates.\r\n"
   ],
   "metadata": {}
  },
  {
   "cell_type": "code",
   "execution_count": null,
   "source": [
    "# Calculate the harmonic mean of \"pts\" per all seasons for Manu Ginobili:\r\n",
    "print(f\"Harmonic mean of pts: {round(stats.harmonic_mean(season_wise_df.loc['Manu Ginobili'].pts.dropna()), 2)}\")"
   ],
   "outputs": [],
   "metadata": {}
  }
 ],
 "metadata": {
  "orig_nbformat": 4,
  "language_info": {
   "name": "python",
   "version": "3.8.10",
   "mimetype": "text/x-python",
   "codemirror_mode": {
    "name": "ipython",
    "version": 3
   },
   "pygments_lexer": "ipython3",
   "nbconvert_exporter": "python",
   "file_extension": ".py"
  },
  "kernelspec": {
   "name": "python3",
   "display_name": "Python 3.8.10 64-bit ('myhpc': conda)"
  },
  "interpreter": {
   "hash": "9e2cdb4300706d64c3bb8ce1a3dbea36fdccde4f6e84f712979922e3f9215c9d"
  }
 },
 "nbformat": 4,
 "nbformat_minor": 2
}